{
 "cells": [
  {
   "cell_type": "code",
   "execution_count": 13,
   "id": "697475aa",
   "metadata": {},
   "outputs": [],
   "source": [
    "import numpy as np\n",
    "import matplotlib.pyplot as plt\n",
    "import seaborn as sns\n",
    "import pandas as pd"
   ]
  },
  {
   "cell_type": "code",
   "execution_count": 14,
   "id": "3abb7dd7",
   "metadata": {},
   "outputs": [],
   "source": [
    "def objective(x):\n",
    "    return (2-2*x[0]-3*x[1])**2+x[0]**2+(x[1]-1)**2"
   ]
  },
  {
   "cell_type": "code",
   "execution_count": 15,
   "id": "4cda07a5",
   "metadata": {},
   "outputs": [],
   "source": [
    "def gradient(x):\n",
    "    return np.array([-8+10*x[0]+12*x[1],-14+12*x[0]+20*x[1]])"
   ]
  },
  {
   "cell_type": "code",
   "execution_count": 16,
   "id": "7bdfb680",
   "metadata": {},
   "outputs": [],
   "source": [
    "def hessian(x):\n",
    "    return np.array([[10,12], [12,20]])"
   ]
  },
  {
   "cell_type": "markdown",
   "id": "7e3159d0",
   "metadata": {},
   "source": [
    "# Gradient Descent method"
   ]
  },
  {
   "cell_type": "markdown",
   "id": "45939dfb",
   "metadata": {},
   "source": [
    "The gradient descent plot takes some iteration to converge which has been depicted in a graph below. This comes out to be a straight line. An inexact line search method was used to compute the value of alpha. The linear convergence plot varies based on initial condition, error tolerance value, and isn't impacted by t. Each gradient descent step was obtained by optimizing the alpha first and then updating the x and gradient values. "
   ]
  },
  {
   "cell_type": "code",
   "execution_count": 17,
   "id": "9ae8f5e2",
   "metadata": {},
   "outputs": [],
   "source": [
    "x=np.array([1.1,1.7])\n",
    "epsilon=1e-7\n",
    "max_evals=50\n",
    "alpha = 1\n",
    "t=0.5\n",
    "evals=0\n",
    "# loss, grad = objective(x),gradient(x)\n",
    "losses = []\n",
    "grads = []"
   ]
  },
  {
   "cell_type": "code",
   "execution_count": 18,
   "id": "cd54ed9f",
   "metadata": {},
   "outputs": [],
   "source": [
    "while np.linalg.norm(gradient(x))>epsilon:\n",
    "    losses.append(objective(x))\n",
    "    grads.append(np.linalg.norm(gradient(x)))\n",
    "    alpha=1\n",
    "    while objective(x - alpha * gradient(x)) > (objective(x) - t * alpha * np.matmul(gradient(x).T, gradient(x))) and evals < max_evals:\n",
    "        alpha = alpha / 2\n",
    "        evals+=1\n",
    "    x = x - alpha * gradient(x)\n",
    "#     loss, grad = objective(x),gradient(x)\n",
    "    evals=0"
   ]
  },
  {
   "cell_type": "code",
   "execution_count": 19,
   "id": "f5e0116f",
   "metadata": {},
   "outputs": [
    {
     "data": {
      "text/plain": [
       "array([-0.14285711,  0.78571426])"
      ]
     },
     "execution_count": 19,
     "metadata": {},
     "output_type": "execute_result"
    }
   ],
   "source": [
    "x"
   ]
  },
  {
   "cell_type": "code",
   "execution_count": 20,
   "id": "017593d9",
   "metadata": {},
   "outputs": [
    {
     "data": {
      "image/png": "[encoded data removed]",
      "text/plain": [
       "<Figure size 432x288 with 1 Axes>"
      ]
     },
     "metadata": {
      "needs_background": "light"
     },
     "output_type": "display_data"
    }
   ],
   "source": [
    "ax=sns.lineplot(x=np.arange(len(losses)),y=losses-losses[-1])\n",
    "ax.set_yscale('log')"
   ]
  },
  {
   "cell_type": "markdown",
   "id": "a26c3eae",
   "metadata": {},
   "source": [
    "# Newton Method"
   ]
  },
  {
   "cell_type": "markdown",
   "id": "f85bfea3",
   "metadata": {},
   "source": [
    "There is no convergence plot for Newton method as it converges in a single step"
   ]
  },
  {
   "cell_type": "code",
   "execution_count": 10,
   "id": "b309e528",
   "metadata": {},
   "outputs": [],
   "source": [
    "x=np.array([0,0])\n",
    "epsilon=1e-6\n",
    "max_evals=10\n",
    "alpha = 1\n",
    "t=0.5\n",
    "evals=0\n",
    "loss, grad = objective(x),gradient(x)\n",
    "losses = []\n",
    "grads = []\n",
    "new_x=np.array([1,1])"
   ]
  },
  {
   "cell_type": "code",
   "execution_count": 11,
   "id": "54c13a1d",
   "metadata": {},
   "outputs": [],
   "source": [
    "while np.linalg.norm(new_x-x)>epsilon and evals < max_evals:\n",
    "    evals+=1\n",
    "    x = new_x\n",
    "    new_x = x - np.matmul(np.linalg.inv(hessian(x)),gradient(x))"
   ]
  },
  {
   "cell_type": "code",
   "execution_count": 12,
   "id": "7143d1d0",
   "metadata": {},
   "outputs": [
    {
     "data": {
      "text/plain": [
       "array([-0.14285714,  0.78571429])"
      ]
     },
     "execution_count": 12,
     "metadata": {},
     "output_type": "execute_result"
    }
   ],
   "source": [
    "x"
   ]
  }
 ],
 "metadata": {
  "kernelspec": {
   "display_name": "Python 3 (ipykernel)",
   "language": "python",
   "name": "python3"
  },
  "language_info": {
   "codemirror_mode": {
    "name": "ipython",
    "version": 3
   },
   "file_extension": ".py",
   "mimetype": "text/x-python",
   "name": "python",
   "nbconvert_exporter": "python",
   "pygments_lexer": "ipython3",
   "version": "3.9.12"
  }
 },
 "nbformat": 4,
 "nbformat_minor": 5
}
