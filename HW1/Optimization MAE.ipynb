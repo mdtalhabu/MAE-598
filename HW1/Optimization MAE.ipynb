{
 "cells": [
  {
   "cell_type": "code",
   "execution_count": 1,
   "id": "471e2735",
   "metadata": {},
   "outputs": [],
   "source": [
    "#Importing various libraries\n",
    "import pandas as pd\n",
    "import matplotlib.pyplot as plt\n",
    "import seaborn as sns\n",
    "import numpy as np"
   ]
  },
  {
   "cell_type": "code",
   "execution_count": 2,
   "id": "ce8ac3fb",
   "metadata": {},
   "outputs": [],
   "source": [
    "from scipy.optimize import minimize"
   ]
  },
  {
   "cell_type": "code",
   "execution_count": 10,
   "id": "01893caf",
   "metadata": {},
   "outputs": [],
   "source": [
    "def objective_function(x):\n",
    "    return (x[0]-x[1])**2+(x[1]+x[2]-x[1])**2+(x[3]-1)**2+(x[4]-1)**2"
   ]
  },
  {
   "cell_type": "code",
   "execution_count": 11,
   "id": "0ac21de8",
   "metadata": {},
   "outputs": [],
   "source": [
    "const = ({'type': 'eq', 'fun': lambda x:  x[0]+3*x[1]},\n",
    "        {'type': 'eq', 'fun': lambda x: x[3]+x[3]-2*x[4]},\n",
    "        {'type': 'eq', 'fun': lambda x: x[1]-x[4]})"
   ]
  },
  {
   "cell_type": "code",
   "execution_count": 12,
   "id": "1f142e70",
   "metadata": {},
   "outputs": [],
   "source": [
    "bnds = ((-10,10), (-10,10),(-10,10),(-10,10),(-10,10))"
   ]
  },
  {
   "cell_type": "code",
   "execution_count": 13,
   "id": "2302b259",
   "metadata": {},
   "outputs": [
    {
     "data": {
      "text/plain": [
       "     fun: 1.7777777777777777\n",
       "     jac: array([-0.88888887,  0.88888891,  0.        , -1.77777776, -1.77777776])\n",
       " message: 'Optimization terminated successfully'\n",
       "    nfev: 37\n",
       "     nit: 6\n",
       "    njev: 6\n",
       "  status: 0\n",
       " success: True\n",
       "       x: array([-3.33333334e-01,  1.11111111e-01, -7.16711824e-09,  1.11111111e-01,\n",
       "        1.11111111e-01])"
      ]
     },
     "execution_count": 13,
     "metadata": {},
     "output_type": "execute_result"
    }
   ],
   "source": [
    "minimize(\n",
    "    objective_function,\n",
    "    (-1,0,1,0,1),\n",
    "    method='SLSQP',\n",
    "    constraints=const,\n",
    "    bounds=bnds,\n",
    ")"
   ]
  },
  {
   "cell_type": "code",
   "execution_count": 15,
   "id": "b1b1eca3",
   "metadata": {},
   "outputs": [
    {
     "data": {
      "text/plain": [
       "     fun: 1.7777777777777772\n",
       "     jac: array([-8.88888866e-01,  8.88888910e-01,  2.98023224e-08, -1.77777776e+00,\n",
       "       -1.77777776e+00])\n",
       " message: 'Optimization terminated successfully'\n",
       "    nfev: 13\n",
       "     nit: 2\n",
       "    njev: 2\n",
       "  status: 0\n",
       " success: True\n",
       "       x: array([-3.33333333e-01,  1.11111111e-01, -4.77763923e-17,  1.11111111e-01,\n",
       "        1.11111111e-01])"
      ]
     },
     "execution_count": 15,
     "metadata": {},
     "output_type": "execute_result"
    }
   ],
   "source": [
    "minimize(\n",
    "    objective_function,\n",
    "    (0,0,0,0,0),\n",
    "    method='SLSQP',\n",
    "    constraints=const,\n",
    "    bounds=bnds,\n",
    ")"
   ]
  },
  {
   "cell_type": "code",
   "execution_count": 14,
   "id": "fb6af00c",
   "metadata": {},
   "outputs": [
    {
     "name": "stdout",
     "output_type": "stream",
     "text": [
      "--Call--\n",
      "> \u001b[1;32mc:\\users\\mtalha4\\anaconda3\\lib\\site-packages\\ipython\\core\\displayhook.py\u001b[0m(252)\u001b[0;36m__call__\u001b[1;34m()\u001b[0m\n",
      "\u001b[1;32m    250 \u001b[1;33m        \u001b[0msys\u001b[0m\u001b[1;33m.\u001b[0m\u001b[0mstdout\u001b[0m\u001b[1;33m.\u001b[0m\u001b[0mflush\u001b[0m\u001b[1;33m(\u001b[0m\u001b[1;33m)\u001b[0m\u001b[1;33m\u001b[0m\u001b[1;33m\u001b[0m\u001b[0m\n",
      "\u001b[0m\u001b[1;32m    251 \u001b[1;33m\u001b[1;33m\u001b[0m\u001b[0m\n",
      "\u001b[0m\u001b[1;32m--> 252 \u001b[1;33m    \u001b[1;32mdef\u001b[0m \u001b[0m__call__\u001b[0m\u001b[1;33m(\u001b[0m\u001b[0mself\u001b[0m\u001b[1;33m,\u001b[0m \u001b[0mresult\u001b[0m\u001b[1;33m=\u001b[0m\u001b[1;32mNone\u001b[0m\u001b[1;33m)\u001b[0m\u001b[1;33m:\u001b[0m\u001b[1;33m\u001b[0m\u001b[1;33m\u001b[0m\u001b[0m\n",
      "\u001b[0m\u001b[1;32m    253 \u001b[1;33m        \"\"\"Printing with history cache management.\n",
      "\u001b[0m\u001b[1;32m    254 \u001b[1;33m\u001b[1;33m\u001b[0m\u001b[0m\n",
      "\u001b[0m\n",
      "ipdb> 1\n",
      "1\n",
      "--KeyboardInterrupt--\n",
      "\n",
      "KeyboardInterrupt: Interrupted by user\n"
     ]
    }
   ],
   "source": [
    "from IPython.core.debugger import Pdb; Pdb().set_trace()"
   ]
  },
  {
   "cell_type": "code",
   "execution_count": null,
   "id": "c93323d7",
   "metadata": {},
   "outputs": [],
   "source": []
  }
 ],
 "metadata": {
  "kernelspec": {
   "display_name": "Python 3 (ipykernel)",
   "language": "python",
   "name": "python3"
  },
  "language_info": {
   "codemirror_mode": {
    "name": "ipython",
    "version": 3
   },
   "file_extension": ".py",
   "mimetype": "text/x-python",
   "name": "python",
   "nbconvert_exporter": "python",
   "pygments_lexer": "ipython3",
   "version": "3.9.7"
  }
 },
 "nbformat": 4,
 "nbformat_minor": 5
}
